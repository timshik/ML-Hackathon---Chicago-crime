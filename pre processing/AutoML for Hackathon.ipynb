{
 "cells": [
  {
   "cell_type": "code",
   "execution_count": 1,
   "id": "8ad0b83f",
   "metadata": {},
   "outputs": [
    {
     "name": "stdout",
     "output_type": "stream",
     "text": [
      "Checking whether there is an H2O instance running at http://localhost:54321 ..... not found.\n",
      "Attempting to start a local H2O server...\n",
      "; Java HotSpot(TM) 64-Bit Server VM (build 25.291-b10, mixed mode)\n",
      "  Starting server from C:\\Users\\moshe\\AppData\\Roaming\\Python\\Python38\\site-packages\\h2o\\backend\\bin\\h2o.jar\n",
      "  Ice root: C:\\Users\\moshe\\AppData\\Local\\Temp\\tmpfwkg55rk\n",
      "  JVM stdout: C:\\Users\\moshe\\AppData\\Local\\Temp\\tmpfwkg55rk\\h2o_moshe_started_from_python.out\n",
      "  JVM stderr: C:\\Users\\moshe\\AppData\\Local\\Temp\\tmpfwkg55rk\\h2o_moshe_started_from_python.err\n",
      "  Server is running at http://127.0.0.1:54321\n",
      "Connecting to H2O server at http://127.0.0.1:54321 ... successful.\n"
     ]
    },
    {
     "data": {
      "text/html": [
       "<div style=\"overflow:auto\"><table style=\"width:50%\"><tr><td>H2O_cluster_uptime:</td>\n",
       "<td>01 secs</td></tr>\n",
       "<tr><td>H2O_cluster_timezone:</td>\n",
       "<td>Asia/Jerusalem</td></tr>\n",
       "<tr><td>H2O_data_parsing_timezone:</td>\n",
       "<td>UTC</td></tr>\n",
       "<tr><td>H2O_cluster_version:</td>\n",
       "<td>3.32.1.3</td></tr>\n",
       "<tr><td>H2O_cluster_version_age:</td>\n",
       "<td>14 days, 5 hours and 4 minutes </td></tr>\n",
       "<tr><td>H2O_cluster_name:</td>\n",
       "<td>H2O_from_python_moshe_rbvuzi</td></tr>\n",
       "<tr><td>H2O_cluster_total_nodes:</td>\n",
       "<td>1</td></tr>\n",
       "<tr><td>H2O_cluster_free_memory:</td>\n",
       "<td>3.511 Gb</td></tr>\n",
       "<tr><td>H2O_cluster_total_cores:</td>\n",
       "<td>12</td></tr>\n",
       "<tr><td>H2O_cluster_allowed_cores:</td>\n",
       "<td>12</td></tr>\n",
       "<tr><td>H2O_cluster_status:</td>\n",
       "<td>accepting new members, healthy</td></tr>\n",
       "<tr><td>H2O_connection_url:</td>\n",
       "<td>http://127.0.0.1:54321</td></tr>\n",
       "<tr><td>H2O_connection_proxy:</td>\n",
       "<td>{\"http\": null, \"https\": null}</td></tr>\n",
       "<tr><td>H2O_internal_security:</td>\n",
       "<td>False</td></tr>\n",
       "<tr><td>H2O_API_Extensions:</td>\n",
       "<td>Amazon S3, Algos, AutoML, Core V3, TargetEncoder, Core V4</td></tr>\n",
       "<tr><td>Python_version:</td>\n",
       "<td>3.8.9 final</td></tr></table></div>"
      ],
      "text/plain": [
       "--------------------------  ---------------------------------------------------------\n",
       "H2O_cluster_uptime:         01 secs\n",
       "H2O_cluster_timezone:       Asia/Jerusalem\n",
       "H2O_data_parsing_timezone:  UTC\n",
       "H2O_cluster_version:        3.32.1.3\n",
       "H2O_cluster_version_age:    14 days, 5 hours and 4 minutes\n",
       "H2O_cluster_name:           H2O_from_python_moshe_rbvuzi\n",
       "H2O_cluster_total_nodes:    1\n",
       "H2O_cluster_free_memory:    3.511 Gb\n",
       "H2O_cluster_total_cores:    12\n",
       "H2O_cluster_allowed_cores:  12\n",
       "H2O_cluster_status:         accepting new members, healthy\n",
       "H2O_connection_url:         http://127.0.0.1:54321\n",
       "H2O_connection_proxy:       {\"http\": null, \"https\": null}\n",
       "H2O_internal_security:      False\n",
       "H2O_API_Extensions:         Amazon S3, Algos, AutoML, Core V3, TargetEncoder, Core V4\n",
       "Python_version:             3.8.9 final\n",
       "--------------------------  ---------------------------------------------------------"
      ]
     },
     "metadata": {},
     "output_type": "display_data"
    }
   ],
   "source": [
    "import h2o\n",
    "import pandas as pd\n",
    "from h2o.automl import H2OAutoML\n",
    "h2o.init()"
   ]
  },
  {
   "cell_type": "code",
   "execution_count": 2,
   "id": "7b75b88b",
   "metadata": {},
   "outputs": [
    {
     "name": "stdout",
     "output_type": "stream",
     "text": [
      "Parse progress: |█████████████████████████████████████████████████████████| 100%\n"
     ]
    }
   ],
   "source": [
    "# define data file path\n",
    "data_path = 'data/dataset_crimes__v2.csv'\n",
    "\n",
    "# Load data into H2O\n",
    "df = h2o.import_file(data_path)"
   ]
  },
  {
   "cell_type": "code",
   "execution_count": 3,
   "id": "7150ebbd",
   "metadata": {},
   "outputs": [
    {
     "name": "stdout",
     "output_type": "stream",
     "text": [
      "Rows:34226\n",
      "Cols:23\n",
      "\n",
      "\n"
     ]
    },
    {
     "data": {
      "text/html": [
       "<table>\n",
       "<thead>\n",
       "<tr><th>       </th><th>ID                </th><th>Case Number  </th><th>Date               </th><th>Block                  </th><th>IUCR             </th><th>Primary Type   </th><th>Description            </th><th>Location Description  </th><th>Arrest  </th><th>Domestic  </th><th>Beat              </th><th>District          </th><th>Ward             </th><th>Community Area    </th><th>FBI Code         </th><th>X Coordinate      </th><th>Y Coordinate      </th><th>Year             </th><th>Updated On         </th><th>Latitude          </th><th>Longitude         </th><th>Location     </th><th>C23           </th></tr>\n",
       "</thead>\n",
       "<tbody>\n",
       "<tr><td>type   </td><td>int               </td><td>string       </td><td>time               </td><td>enum                   </td><td>int              </td><td>enum           </td><td>enum                   </td><td>enum                  </td><td>enum    </td><td>enum      </td><td>int               </td><td>int               </td><td>int              </td><td>int               </td><td>int              </td><td>int               </td><td>int               </td><td>int              </td><td>time               </td><td>real              </td><td>real              </td><td>enum         </td><td>enum          </td></tr>\n",
       "<tr><td>mins   </td><td>12258517.0        </td><td>NaN          </td><td>1609459200000.0    </td><td>                       </td><td>420.0            </td><td>               </td><td>                       </td><td>                      </td><td>        </td><td>          </td><td>111.0             </td><td>1.0               </td><td>1.0              </td><td>1.0               </td><td>1.0              </td><td>1.0               </td><td>1.0               </td><td>2021.0           </td><td>2021.0             </td><td>41.644607723      </td><td>-87.934272688     </td><td>             </td><td>              </td></tr>\n",
       "<tr><td>mean   </td><td>12300582.518509863</td><td>NaN          </td><td>1613877513124.9087 </td><td>                       </td><td>842.9272320607881</td><td>               </td><td>                       </td><td>                      </td><td>        </td><td>          </td><td>1167.2786115486347</td><td>12.901172280753823</td><td>23.68522528401507</td><td>52.581972242512784</td><td>9.890893006339999</td><td>1144968.1873121576</td><td>1855887.467269887 </td><td>5274.926647683455</td><td>1587511079764.712  </td><td>28399.247622667473</td><td>-55.72859667074053</td><td>             </td><td>              </td></tr>\n",
       "<tr><td>maxs   </td><td>12345378.0        </td><td>NaN          </td><td>1618711260000.0    </td><td>                       </td><td>1375.0           </td><td>               </td><td>                       </td><td>                      </td><td>        </td><td>          </td><td>2535.0            </td><td>2533.0            </td><td>2221.0           </td><td>2535.0            </td><td>76.0             </td><td>1205112.0         </td><td>1951493.0         </td><td>1941092.0        </td><td>1621011180000.0    </td><td>1950055.0         </td><td>2021.0            </td><td>             </td><td>              </td></tr>\n",
       "<tr><td>sigma  </td><td>23466.246868064467</td><td>NaN          </td><td>2606793602.7029395 </td><td>                       </td><td>322.5518579714951</td><td>               </td><td>                       </td><td>                      </td><td>        </td><td>          </td><td>703.7012220966282 </td><td>47.066711464274036</td><td>30.64081725950123</td><td>148.50464532522832</td><td>4.248161735623986</td><td>151237.13885474743</td><td>235388.87165127782</td><td>75486.20985893747</td><td>207720917232.82587 </td><td>229224.02201820436</td><td>256.8855603282409 </td><td>             </td><td>              </td></tr>\n",
       "<tr><td>zeros  </td><td>0                 </td><td>0            </td><td>0                  </td><td>                       </td><td>0                </td><td>               </td><td>                       </td><td>                      </td><td>        </td><td>          </td><td>0                 </td><td>0                 </td><td>0                </td><td>0                 </td><td>0                </td><td>0                 </td><td>0                 </td><td>0                </td><td>0                  </td><td>0                 </td><td>0                 </td><td>             </td><td>              </td></tr>\n",
       "<tr><td>missing</td><td>1                 </td><td>1            </td><td>1                  </td><td>1                      </td><td>1588             </td><td>1              </td><td>1                      </td><td>238                   </td><td>1       </td><td>1         </td><td>577               </td><td>531               </td><td>513              </td><td>1                 </td><td>13879            </td><td>288               </td><td>297               </td><td>512              </td><td>1                  </td><td>333               </td><td>306               </td><td>287          </td><td>287           </td></tr>\n",
       "<tr><td>0      </td><td>12260346.0        </td><td>JE102126     </td><td>2021-01-03 13:23:00</td><td>070XX S EGGLESTON AVE  </td><td>486.0            </td><td>BATTERY        </td><td>DOMESTIC BATTERY SIMPLE</td><td>APARTMENT             </td><td>False   </td><td>True      </td><td>732.0             </td><td>7.0               </td><td>6.0              </td><td>68.0              </td><td>nan              </td><td>1174496.0         </td><td>1858251.0         </td><td>2021.0           </td><td>2021-01-16 15:49:23</td><td>41.766435144      </td><td>-87.635963997     </td><td>(41.766435144</td><td>-87.635963997)</td></tr>\n",
       "<tr><td>1      </td><td>12263464.0        </td><td>JE105797     </td><td>2021-01-03 06:59:00</td><td>080XX S YALE AVE       </td><td>820.0            </td><td>THEFT          </td><td>$500 AND UNDER         </td><td>RESIDENCE             </td><td>False   </td><td>False     </td><td>623.0             </td><td>6.0               </td><td>17.0             </td><td>44.0              </td><td>6.0              </td><td>1176011.0         </td><td>1851718.0         </td><td>2021.0           </td><td>2021-01-16 15:49:23</td><td>41.748473982      </td><td>-87.63060658799999</td><td>(41.748473982</td><td>-87.630606588)</td></tr>\n",
       "<tr><td>2      </td><td>12259990.0        </td><td>JE101773     </td><td>2021-01-03 12:20:00</td><td>056XX W WASHINGTON BLVD</td><td>486.0            </td><td>BATTERY        </td><td>DOMESTIC BATTERY SIMPLE</td><td>APARTMENT             </td><td>False   </td><td>True      </td><td>1513.0            </td><td>15.0              </td><td>29.0             </td><td>25.0              </td><td>nan              </td><td>1138722.0         </td><td>1900183.0         </td><td>2021.0           </td><td>2021-01-16 15:49:23</td><td>41.88222427       </td><td>-87.766076162     </td><td>(41.88222427 </td><td>-87.766076162)</td></tr>\n",
       "<tr><td>3      </td><td>12260241.0        </td><td>JE101923     </td><td>2021-01-03 08:54:00</td><td>106XX S YATES AVE      </td><td>560.0            </td><td>ASSAULT        </td><td>SIMPLE                 </td><td>CHA APARTMENT         </td><td>False   </td><td>False     </td><td>434.0             </td><td>4.0               </td><td>7.0              </td><td>51.0              </td><td>nan              </td><td>1194343.0         </td><td>1834995.0         </td><td>2021.0           </td><td>2021-01-16 15:49:23</td><td>41.702154047      </td><td>-87.563980453     </td><td>(41.702154047</td><td>-87.563980453)</td></tr>\n",
       "<tr><td>4      </td><td>12260534.0        </td><td>JE102382     </td><td>2021-01-03 16:30:00</td><td>013XX W TAYLOR ST      </td><td>820.0            </td><td>THEFT          </td><td>$500 AND UNDER         </td><td>APARTMENT             </td><td>True    </td><td>True      </td><td>1231.0            </td><td>12.0              </td><td>28.0             </td><td>28.0              </td><td>6.0              </td><td>1167677.0         </td><td>1895707.0         </td><td>2021.0           </td><td>2021-01-16 15:49:23</td><td>41.869367371      </td><td>-87.659882148     </td><td>(41.869367371</td><td>-87.659882148)</td></tr>\n",
       "<tr><td>5      </td><td>12260810.0        </td><td>JE102660     </td><td>2021-01-03 22:30:00</td><td>014XX W THOME AVE      </td><td>1310.0           </td><td>CRIMINAL DAMAGE</td><td>TO PROPERTY            </td><td>RESIDENCE - GARAGE    </td><td>False   </td><td>False     </td><td>2433.0            </td><td>24.0              </td><td>48.0             </td><td>77.0              </td><td>14.0             </td><td>1165620.0         </td><td>1941643.0         </td><td>2021.0           </td><td>2021-01-16 15:49:23</td><td>41.995462301      </td><td>-87.666121505     </td><td>(41.995462301</td><td>-87.666121505)</td></tr>\n",
       "<tr><td>6      </td><td>12260660.0        </td><td>JE102492     </td><td>2021-01-03 21:25:00</td><td>035XX W 26TH ST        </td><td>1310.0           </td><td>CRIMINAL DAMAGE</td><td>TO PROPERTY            </td><td>SMALL RETAIL STORE    </td><td>False   </td><td>False     </td><td>1032.0            </td><td>10.0              </td><td>22.0             </td><td>30.0              </td><td>14.0             </td><td>1152976.0         </td><td>1886496.0         </td><td>2021.0           </td><td>2021-01-16 15:49:23</td><td>41.844395123000005</td><td>-87.71409749200001</td><td>(41.844395123</td><td>-87.714097492)</td></tr>\n",
       "<tr><td>7      </td><td>12260120.0        </td><td>JE101886     </td><td>2021-01-03 05:45:00</td><td>029XX N DAWSON AVE     </td><td>1310.0           </td><td>CRIMINAL DAMAGE</td><td>TO PROPERTY            </td><td>RESIDENCE - GARAGE    </td><td>False   </td><td>False     </td><td>1412.0            </td><td>14.0              </td><td>35.0             </td><td>21.0              </td><td>14.0             </td><td>1153479.0         </td><td>1919498.0         </td><td>2021.0           </td><td>2021-01-16 15:49:23</td><td>41.934945926      </td><td>-87.71137369      </td><td>(41.934945926</td><td>-87.71137369) </td></tr>\n",
       "<tr><td>8      </td><td>12261308.0        </td><td>JE103188     </td><td>2021-01-03 03:20:00</td><td>111XX S ASHLAND AVE    </td><td>820.0            </td><td>THEFT          </td><td>$500 AND UNDER         </td><td>STREET                </td><td>False   </td><td>False     </td><td>2234.0            </td><td>22.0              </td><td>34.0             </td><td>75.0              </td><td>6.0              </td><td>nan               </td><td>nan               </td><td>2021.0           </td><td>2021-01-10 15:51:53</td><td>nan               </td><td>nan               </td><td>             </td><td>              </td></tr>\n",
       "<tr><td>9      </td><td>12260430.0        </td><td>JE102224     </td><td>2021-01-03 14:30:00</td><td>048XX W HARRISON ST    </td><td>560.0            </td><td>ASSAULT        </td><td>SIMPLE                 </td><td>BARBERSHOP            </td><td>False   </td><td>True      </td><td>1533.0            </td><td>15.0              </td><td>29.0             </td><td>25.0              </td><td>nan              </td><td>1144303.0         </td><td>1896901.0         </td><td>2021.0           </td><td>2021-01-16 15:49:23</td><td>41.873115002      </td><td>-87.74566497100001</td><td>(41.873115002</td><td>-87.745664971)</td></tr>\n",
       "</tbody>\n",
       "</table>"
      ]
     },
     "metadata": {},
     "output_type": "display_data"
    }
   ],
   "source": [
    "df.describe()"
   ]
  },
  {
   "cell_type": "code",
   "execution_count": 4,
   "id": "f1b44ff4",
   "metadata": {},
   "outputs": [
    {
     "data": {
      "text/html": [
       "<table>\n",
       "<thead>\n",
       "<tr><th style=\"text-align: right;\">         ID</th><th>Case Number  </th><th>Date               </th><th>Block                  </th><th style=\"text-align: right;\">  IUCR</th><th>Primary Type   </th><th>Description            </th><th>Location Description  </th><th>Arrest  </th><th>Domestic  </th><th style=\"text-align: right;\">  Beat</th><th style=\"text-align: right;\">  District</th><th style=\"text-align: right;\">  Ward</th><th style=\"text-align: right;\">  Community Area</th><th style=\"text-align: right;\">  FBI Code</th><th style=\"text-align: right;\">  X Coordinate</th><th style=\"text-align: right;\">  Y Coordinate</th><th style=\"text-align: right;\">  Year</th><th>Updated On         </th><th style=\"text-align: right;\">  Latitude</th><th style=\"text-align: right;\">  Longitude</th><th>Location     </th><th>C23           </th></tr>\n",
       "</thead>\n",
       "<tbody>\n",
       "<tr><td style=\"text-align: right;\">1.22603e+07</td><td>JE102126     </td><td>2021-01-03 13:23:00</td><td>070XX S EGGLESTON AVE  </td><td style=\"text-align: right;\">   486</td><td>BATTERY        </td><td>DOMESTIC BATTERY SIMPLE</td><td>APARTMENT             </td><td>False   </td><td>True      </td><td style=\"text-align: right;\">   732</td><td style=\"text-align: right;\">         7</td><td style=\"text-align: right;\">     6</td><td style=\"text-align: right;\">              68</td><td style=\"text-align: right;\">       nan</td><td style=\"text-align: right;\">   1.1745e+06 </td><td style=\"text-align: right;\">   1.85825e+06</td><td style=\"text-align: right;\">  2021</td><td>2021-01-16 15:49:23</td><td style=\"text-align: right;\">   41.7664</td><td style=\"text-align: right;\">   -87.636 </td><td>(41.766435144</td><td>-87.635963997)</td></tr>\n",
       "<tr><td style=\"text-align: right;\">1.22635e+07</td><td>JE105797     </td><td>2021-01-03 06:59:00</td><td>080XX S YALE AVE       </td><td style=\"text-align: right;\">   820</td><td>THEFT          </td><td>$500 AND UNDER         </td><td>RESIDENCE             </td><td>False   </td><td>False     </td><td style=\"text-align: right;\">   623</td><td style=\"text-align: right;\">         6</td><td style=\"text-align: right;\">    17</td><td style=\"text-align: right;\">              44</td><td style=\"text-align: right;\">         6</td><td style=\"text-align: right;\">   1.17601e+06</td><td style=\"text-align: right;\">   1.85172e+06</td><td style=\"text-align: right;\">  2021</td><td>2021-01-16 15:49:23</td><td style=\"text-align: right;\">   41.7485</td><td style=\"text-align: right;\">   -87.6306</td><td>(41.748473982</td><td>-87.630606588)</td></tr>\n",
       "<tr><td style=\"text-align: right;\">1.226e+07  </td><td>JE101773     </td><td>2021-01-03 12:20:00</td><td>056XX W WASHINGTON BLVD</td><td style=\"text-align: right;\">   486</td><td>BATTERY        </td><td>DOMESTIC BATTERY SIMPLE</td><td>APARTMENT             </td><td>False   </td><td>True      </td><td style=\"text-align: right;\">  1513</td><td style=\"text-align: right;\">        15</td><td style=\"text-align: right;\">    29</td><td style=\"text-align: right;\">              25</td><td style=\"text-align: right;\">       nan</td><td style=\"text-align: right;\">   1.13872e+06</td><td style=\"text-align: right;\">   1.90018e+06</td><td style=\"text-align: right;\">  2021</td><td>2021-01-16 15:49:23</td><td style=\"text-align: right;\">   41.8822</td><td style=\"text-align: right;\">   -87.7661</td><td>(41.88222427 </td><td>-87.766076162)</td></tr>\n",
       "<tr><td style=\"text-align: right;\">1.22602e+07</td><td>JE101923     </td><td>2021-01-03 08:54:00</td><td>106XX S YATES AVE      </td><td style=\"text-align: right;\">   560</td><td>ASSAULT        </td><td>SIMPLE                 </td><td>CHA APARTMENT         </td><td>False   </td><td>False     </td><td style=\"text-align: right;\">   434</td><td style=\"text-align: right;\">         4</td><td style=\"text-align: right;\">     7</td><td style=\"text-align: right;\">              51</td><td style=\"text-align: right;\">       nan</td><td style=\"text-align: right;\">   1.19434e+06</td><td style=\"text-align: right;\">   1.835e+06  </td><td style=\"text-align: right;\">  2021</td><td>2021-01-16 15:49:23</td><td style=\"text-align: right;\">   41.7022</td><td style=\"text-align: right;\">   -87.564 </td><td>(41.702154047</td><td>-87.563980453)</td></tr>\n",
       "<tr><td style=\"text-align: right;\">1.22605e+07</td><td>JE102382     </td><td>2021-01-03 16:30:00</td><td>013XX W TAYLOR ST      </td><td style=\"text-align: right;\">   820</td><td>THEFT          </td><td>$500 AND UNDER         </td><td>APARTMENT             </td><td>True    </td><td>True      </td><td style=\"text-align: right;\">  1231</td><td style=\"text-align: right;\">        12</td><td style=\"text-align: right;\">    28</td><td style=\"text-align: right;\">              28</td><td style=\"text-align: right;\">         6</td><td style=\"text-align: right;\">   1.16768e+06</td><td style=\"text-align: right;\">   1.89571e+06</td><td style=\"text-align: right;\">  2021</td><td>2021-01-16 15:49:23</td><td style=\"text-align: right;\">   41.8694</td><td style=\"text-align: right;\">   -87.6599</td><td>(41.869367371</td><td>-87.659882148)</td></tr>\n",
       "<tr><td style=\"text-align: right;\">1.22608e+07</td><td>JE102660     </td><td>2021-01-03 22:30:00</td><td>014XX W THOME AVE      </td><td style=\"text-align: right;\">  1310</td><td>CRIMINAL DAMAGE</td><td>TO PROPERTY            </td><td>RESIDENCE - GARAGE    </td><td>False   </td><td>False     </td><td style=\"text-align: right;\">  2433</td><td style=\"text-align: right;\">        24</td><td style=\"text-align: right;\">    48</td><td style=\"text-align: right;\">              77</td><td style=\"text-align: right;\">        14</td><td style=\"text-align: right;\">   1.16562e+06</td><td style=\"text-align: right;\">   1.94164e+06</td><td style=\"text-align: right;\">  2021</td><td>2021-01-16 15:49:23</td><td style=\"text-align: right;\">   41.9955</td><td style=\"text-align: right;\">   -87.6661</td><td>(41.995462301</td><td>-87.666121505)</td></tr>\n",
       "<tr><td style=\"text-align: right;\">1.22607e+07</td><td>JE102492     </td><td>2021-01-03 21:25:00</td><td>035XX W 26TH ST        </td><td style=\"text-align: right;\">  1310</td><td>CRIMINAL DAMAGE</td><td>TO PROPERTY            </td><td>SMALL RETAIL STORE    </td><td>False   </td><td>False     </td><td style=\"text-align: right;\">  1032</td><td style=\"text-align: right;\">        10</td><td style=\"text-align: right;\">    22</td><td style=\"text-align: right;\">              30</td><td style=\"text-align: right;\">        14</td><td style=\"text-align: right;\">   1.15298e+06</td><td style=\"text-align: right;\">   1.8865e+06 </td><td style=\"text-align: right;\">  2021</td><td>2021-01-16 15:49:23</td><td style=\"text-align: right;\">   41.8444</td><td style=\"text-align: right;\">   -87.7141</td><td>(41.844395123</td><td>-87.714097492)</td></tr>\n",
       "<tr><td style=\"text-align: right;\">1.22601e+07</td><td>JE101886     </td><td>2021-01-03 05:45:00</td><td>029XX N DAWSON AVE     </td><td style=\"text-align: right;\">  1310</td><td>CRIMINAL DAMAGE</td><td>TO PROPERTY            </td><td>RESIDENCE - GARAGE    </td><td>False   </td><td>False     </td><td style=\"text-align: right;\">  1412</td><td style=\"text-align: right;\">        14</td><td style=\"text-align: right;\">    35</td><td style=\"text-align: right;\">              21</td><td style=\"text-align: right;\">        14</td><td style=\"text-align: right;\">   1.15348e+06</td><td style=\"text-align: right;\">   1.9195e+06 </td><td style=\"text-align: right;\">  2021</td><td>2021-01-16 15:49:23</td><td style=\"text-align: right;\">   41.9349</td><td style=\"text-align: right;\">   -87.7114</td><td>(41.934945926</td><td>-87.71137369) </td></tr>\n",
       "<tr><td style=\"text-align: right;\">1.22613e+07</td><td>JE103188     </td><td>2021-01-03 03:20:00</td><td>111XX S ASHLAND AVE    </td><td style=\"text-align: right;\">   820</td><td>THEFT          </td><td>$500 AND UNDER         </td><td>STREET                </td><td>False   </td><td>False     </td><td style=\"text-align: right;\">  2234</td><td style=\"text-align: right;\">        22</td><td style=\"text-align: right;\">    34</td><td style=\"text-align: right;\">              75</td><td style=\"text-align: right;\">         6</td><td style=\"text-align: right;\"> nan          </td><td style=\"text-align: right;\"> nan          </td><td style=\"text-align: right;\">  2021</td><td>2021-01-10 15:51:53</td><td style=\"text-align: right;\">  nan     </td><td style=\"text-align: right;\">   nan     </td><td>             </td><td>              </td></tr>\n",
       "<tr><td style=\"text-align: right;\">1.22604e+07</td><td>JE102224     </td><td>2021-01-03 14:30:00</td><td>048XX W HARRISON ST    </td><td style=\"text-align: right;\">   560</td><td>ASSAULT        </td><td>SIMPLE                 </td><td>BARBERSHOP            </td><td>False   </td><td>True      </td><td style=\"text-align: right;\">  1533</td><td style=\"text-align: right;\">        15</td><td style=\"text-align: right;\">    29</td><td style=\"text-align: right;\">              25</td><td style=\"text-align: right;\">       nan</td><td style=\"text-align: right;\">   1.1443e+06 </td><td style=\"text-align: right;\">   1.8969e+06 </td><td style=\"text-align: right;\">  2021</td><td>2021-01-16 15:49:23</td><td style=\"text-align: right;\">   41.8731</td><td style=\"text-align: right;\">   -87.7457</td><td>(41.873115002</td><td>-87.745664971)</td></tr>\n",
       "</tbody>\n",
       "</table>"
      ]
     },
     "metadata": {},
     "output_type": "display_data"
    },
    {
     "data": {
      "text/plain": []
     },
     "execution_count": 4,
     "metadata": {},
     "output_type": "execute_result"
    }
   ],
   "source": [
    "df.head()"
   ]
  },
  {
   "cell_type": "code",
   "execution_count": 5,
   "id": "a7cd9d6f",
   "metadata": {},
   "outputs": [],
   "source": [
    "y = \"Primary Type\""
   ]
  },
  {
   "cell_type": "code",
   "execution_count": 6,
   "id": "a1cc560c",
   "metadata": {},
   "outputs": [],
   "source": [
    "cols = {\n",
    "    'ID': 'drop',\n",
    "    'Case Number': 'drop',\n",
    "    'Date': 'drop',\n",
    "    'Block': 'cat',\n",
    "    'IUCR': 'drop',\n",
    "    'Primary Type': 'cat',\n",
    "    'Description': 'drop',\n",
    "    'Location Description': 'cat',\n",
    "    'Arrest': 'cat',\n",
    "    'Domestic': 'cat',\n",
    "    'Beat': 'cat',\n",
    "    'District': 'cat',\n",
    "    'Ward': 'cat',\n",
    "    'Community Area': 'cat',\n",
    "    'FBI Code': 'drop',\n",
    "    'X Coordinate': 'drop',\n",
    "    'Y Coordinate': 'drop',\n",
    "    'Year': 'num',\n",
    "    'Updated On': 'drop',\n",
    "    'Latitude': 'num',\n",
    "    'Longitude': 'num',\n",
    "    'Location': 'drop',\n",
    "    'C23': 'drop'\n",
    "}"
   ]
  },
  {
   "cell_type": "code",
   "execution_count": 7,
   "id": "0e30e63e",
   "metadata": {},
   "outputs": [],
   "source": [
    "x = df.columns\n",
    "x.remove(y)\n",
    "\n",
    "for col_name, op in cols.items():\n",
    "    if op == 'drop' and col_name in x:\n",
    "        x.remove(col_name)\n",
    "    elif op == 'cat':\n",
    "        df[col_name] = df[col_name].asfactor()"
   ]
  },
  {
   "cell_type": "code",
   "execution_count": 8,
   "id": "5d0473ac",
   "metadata": {},
   "outputs": [],
   "source": [
    "splits = df.split_frame(ratios=[0.8], seed=1)\n",
    "train = splits[0]\n",
    "test = splits[1]"
   ]
  },
  {
   "cell_type": "code",
   "execution_count": 9,
   "id": "4466ccae",
   "metadata": {},
   "outputs": [
    {
     "name": "stdout",
     "output_type": "stream",
     "text": [
      "AutoML progress: |\n",
      "23:04:55.50: AutoML: XGBoost is not available; skipping it.\n",
      "\n",
      "████████████████████████████████████████████████████████| 100%\n"
     ]
    }
   ],
   "source": [
    "aml = H2OAutoML(max_models = 10, seed = 1)\n",
    "aml.train(x = x, y = y, training_frame = train)"
   ]
  },
  {
   "cell_type": "code",
   "execution_count": 10,
   "id": "e77174ae",
   "metadata": {},
   "outputs": [],
   "source": [
    "lb = aml.leaderboard"
   ]
  },
  {
   "cell_type": "code",
   "execution_count": 11,
   "id": "152af68c",
   "metadata": {},
   "outputs": [
    {
     "data": {
      "text/html": [
       "<table>\n",
       "<thead>\n",
       "<tr><th>model_id                                           </th><th style=\"text-align: right;\">  mean_per_class_error</th><th style=\"text-align: right;\">  logloss</th><th style=\"text-align: right;\">    rmse</th><th style=\"text-align: right;\">     mse</th><th style=\"text-align: right;\">  auc</th><th style=\"text-align: right;\">  aucpr</th></tr>\n",
       "</thead>\n",
       "<tbody>\n",
       "<tr><td>StackedEnsemble_BestOfFamily_AutoML_20210602_230455</td><td style=\"text-align: right;\">              0.52325 </td><td style=\"text-align: right;\">  1.19945</td><td style=\"text-align: right;\">0.658922</td><td style=\"text-align: right;\">0.434178</td><td style=\"text-align: right;\">  nan</td><td style=\"text-align: right;\">    nan</td></tr>\n",
       "<tr><td>StackedEnsemble_AllModels_AutoML_20210602_230455   </td><td style=\"text-align: right;\">              0.524267</td><td style=\"text-align: right;\">  1.19812</td><td style=\"text-align: right;\">0.658446</td><td style=\"text-align: right;\">0.433551</td><td style=\"text-align: right;\">  nan</td><td style=\"text-align: right;\">    nan</td></tr>\n",
       "<tr><td>GBM_grid__1_AutoML_20210602_230455_model_1         </td><td style=\"text-align: right;\">              0.524676</td><td style=\"text-align: right;\">  1.22906</td><td style=\"text-align: right;\">0.663745</td><td style=\"text-align: right;\">0.440558</td><td style=\"text-align: right;\">  nan</td><td style=\"text-align: right;\">    nan</td></tr>\n",
       "<tr><td>DeepLearning_1_AutoML_20210602_230455              </td><td style=\"text-align: right;\">              0.530482</td><td style=\"text-align: right;\">  1.2273 </td><td style=\"text-align: right;\">0.657626</td><td style=\"text-align: right;\">0.432472</td><td style=\"text-align: right;\">  nan</td><td style=\"text-align: right;\">    nan</td></tr>\n",
       "<tr><td>GBM_2_AutoML_20210602_230455                       </td><td style=\"text-align: right;\">              0.530663</td><td style=\"text-align: right;\">  1.24561</td><td style=\"text-align: right;\">0.663882</td><td style=\"text-align: right;\">0.440739</td><td style=\"text-align: right;\">  nan</td><td style=\"text-align: right;\">    nan</td></tr>\n",
       "<tr><td>GBM_1_AutoML_20210602_230455                       </td><td style=\"text-align: right;\">              0.53106 </td><td style=\"text-align: right;\">  1.24589</td><td style=\"text-align: right;\">0.664582</td><td style=\"text-align: right;\">0.441669</td><td style=\"text-align: right;\">  nan</td><td style=\"text-align: right;\">    nan</td></tr>\n",
       "<tr><td>GBM_3_AutoML_20210602_230455                       </td><td style=\"text-align: right;\">              0.535265</td><td style=\"text-align: right;\">  1.2745 </td><td style=\"text-align: right;\">0.663861</td><td style=\"text-align: right;\">0.440712</td><td style=\"text-align: right;\">  nan</td><td style=\"text-align: right;\">    nan</td></tr>\n",
       "<tr><td>GBM_5_AutoML_20210602_230455                       </td><td style=\"text-align: right;\">              0.53626 </td><td style=\"text-align: right;\">  1.26752</td><td style=\"text-align: right;\">0.663007</td><td style=\"text-align: right;\">0.439578</td><td style=\"text-align: right;\">  nan</td><td style=\"text-align: right;\">    nan</td></tr>\n",
       "<tr><td>GBM_4_AutoML_20210602_230455                       </td><td style=\"text-align: right;\">              0.53797 </td><td style=\"text-align: right;\">  1.28055</td><td style=\"text-align: right;\">0.664538</td><td style=\"text-align: right;\">0.44161 </td><td style=\"text-align: right;\">  nan</td><td style=\"text-align: right;\">    nan</td></tr>\n",
       "<tr><td>DRF_1_AutoML_20210602_230455                       </td><td style=\"text-align: right;\">              0.545788</td><td style=\"text-align: right;\">  1.47611</td><td style=\"text-align: right;\">0.661914</td><td style=\"text-align: right;\">0.438129</td><td style=\"text-align: right;\">  nan</td><td style=\"text-align: right;\">    nan</td></tr>\n",
       "</tbody>\n",
       "</table>"
      ]
     },
     "metadata": {},
     "output_type": "display_data"
    },
    {
     "data": {
      "text/plain": []
     },
     "execution_count": 11,
     "metadata": {},
     "output_type": "execute_result"
    }
   ],
   "source": [
    "lb.head()"
   ]
  },
  {
   "cell_type": "code",
   "execution_count": null,
   "id": "65394292",
   "metadata": {},
   "outputs": [],
   "source": []
  },
  {
   "cell_type": "code",
   "execution_count": 12,
   "id": "725c9bf0",
   "metadata": {},
   "outputs": [],
   "source": [
    "model = aml.leader"
   ]
  },
  {
   "cell_type": "code",
   "execution_count": 13,
   "id": "1fbe8746",
   "metadata": {},
   "outputs": [
    {
     "name": "stdout",
     "output_type": "stream",
     "text": [
      "stackedensemble prediction progress: |████████████████████████████████████| 100%\n"
     ]
    },
    {
     "data": {
      "text/plain": [
       "0               BATTERY\n",
       "1               BATTERY\n",
       "2               BATTERY\n",
       "3       CRIMINAL DAMAGE\n",
       "4               BATTERY\n",
       "             ...       \n",
       "6743            BATTERY\n",
       "6744            BATTERY\n",
       "6745            BATTERY\n",
       "6746    CRIMINAL DAMAGE\n",
       "6747            BATTERY\n",
       "Name: predict, Length: 6748, dtype: object"
      ]
     },
     "execution_count": 13,
     "metadata": {},
     "output_type": "execute_result"
    }
   ],
   "source": [
    "pred_vec = model.predict(test).as_data_frame()['predict']\n",
    "pred_vec"
   ]
  },
  {
   "cell_type": "code",
   "execution_count": 14,
   "id": "fe854aaa",
   "metadata": {},
   "outputs": [],
   "source": [
    "gt_vs_pred = pd.DataFrame({'gt': test.as_data_frame()[y].values, 'pred': pred_vec.values})"
   ]
  },
  {
   "cell_type": "code",
   "execution_count": 15,
   "id": "898414ce",
   "metadata": {},
   "outputs": [
    {
     "data": {
      "text/plain": [
       "0.5208950800237108"
      ]
     },
     "execution_count": 15,
     "metadata": {},
     "output_type": "execute_result"
    }
   ],
   "source": [
    "(gt_vs_pred['gt'] == gt_vs_pred['pred']).mean()"
   ]
  },
  {
   "cell_type": "code",
   "execution_count": 43,
   "id": "79fb44f8",
   "metadata": {},
   "outputs": [
    {
     "data": {
      "text/plain": [
       "array([[0.74577167, 0.01057082, 0.13107822, 0.06183932, 0.05073996],\n",
       "       [0.44432432, 0.02486486, 0.28756757, 0.14162162, 0.10162162],\n",
       "       [0.13400236, 0.00649351, 0.5785124 , 0.18713105, 0.09386068],\n",
       "       [0.03641457, 0.00373483, 0.10644258, 0.82072829, 0.03267974],\n",
       "       [0.25471698, 0.01286449, 0.33276158, 0.20926244, 0.19039451]])"
      ]
     },
     "execution_count": 43,
     "metadata": {},
     "output_type": "execute_result"
    }
   ],
   "source": [
    "labels = gt_vs_pred['gt'].unique().tolist()\n",
    "num_labels = len(labels)\n",
    "\n",
    "summ_arr = np.zeros([num_labels, num_labels])\n",
    "for gt_idx in range(num_labels):\n",
    "    gt_label = labels[gt_idx]\n",
    "    gt_df = gt_vs_pred[gt_vs_pred['gt'] == gt_label]\n",
    "    num_gt = gt_df.shape[0]\n",
    "    for pred_idx in range(num_labels):\n",
    "        pred_label = labels[pred_idx]\n",
    "        num_equal = (gt_df['pred'] == pred_label).sum()\n",
    "        summ_arr[gt_idx, pred_idx] = num_equal / num_gt\n",
    "\n",
    "summ_arr"
   ]
  },
  {
   "cell_type": "code",
   "execution_count": 45,
   "id": "ddda053c",
   "metadata": {},
   "outputs": [
    {
     "data": {
      "text/html": [
       "<div>\n",
       "<style scoped>\n",
       "    .dataframe tbody tr th:only-of-type {\n",
       "        vertical-align: middle;\n",
       "    }\n",
       "\n",
       "    .dataframe tbody tr th {\n",
       "        vertical-align: top;\n",
       "    }\n",
       "\n",
       "    .dataframe thead th {\n",
       "        text-align: right;\n",
       "    }\n",
       "</style>\n",
       "<table border=\"1\" class=\"dataframe\">\n",
       "  <thead>\n",
       "    <tr style=\"text-align: right;\">\n",
       "      <th></th>\n",
       "      <th>BATTERY</th>\n",
       "      <th>ASSAULT</th>\n",
       "      <th>THEFT</th>\n",
       "      <th>DECEPTIVE PRACTICE</th>\n",
       "      <th>CRIMINAL DAMAGE</th>\n",
       "    </tr>\n",
       "  </thead>\n",
       "  <tbody>\n",
       "    <tr>\n",
       "      <th>BATTERY</th>\n",
       "      <td>0.745772</td>\n",
       "      <td>0.010571</td>\n",
       "      <td>0.131078</td>\n",
       "      <td>0.061839</td>\n",
       "      <td>0.050740</td>\n",
       "    </tr>\n",
       "    <tr>\n",
       "      <th>ASSAULT</th>\n",
       "      <td>0.444324</td>\n",
       "      <td>0.024865</td>\n",
       "      <td>0.287568</td>\n",
       "      <td>0.141622</td>\n",
       "      <td>0.101622</td>\n",
       "    </tr>\n",
       "    <tr>\n",
       "      <th>THEFT</th>\n",
       "      <td>0.134002</td>\n",
       "      <td>0.006494</td>\n",
       "      <td>0.578512</td>\n",
       "      <td>0.187131</td>\n",
       "      <td>0.093861</td>\n",
       "    </tr>\n",
       "    <tr>\n",
       "      <th>DECEPTIVE PRACTICE</th>\n",
       "      <td>0.036415</td>\n",
       "      <td>0.003735</td>\n",
       "      <td>0.106443</td>\n",
       "      <td>0.820728</td>\n",
       "      <td>0.032680</td>\n",
       "    </tr>\n",
       "    <tr>\n",
       "      <th>CRIMINAL DAMAGE</th>\n",
       "      <td>0.254717</td>\n",
       "      <td>0.012864</td>\n",
       "      <td>0.332762</td>\n",
       "      <td>0.209262</td>\n",
       "      <td>0.190395</td>\n",
       "    </tr>\n",
       "  </tbody>\n",
       "</table>\n",
       "</div>"
      ],
      "text/plain": [
       "                     BATTERY   ASSAULT     THEFT  DECEPTIVE PRACTICE  \\\n",
       "BATTERY             0.745772  0.010571  0.131078            0.061839   \n",
       "ASSAULT             0.444324  0.024865  0.287568            0.141622   \n",
       "THEFT               0.134002  0.006494  0.578512            0.187131   \n",
       "DECEPTIVE PRACTICE  0.036415  0.003735  0.106443            0.820728   \n",
       "CRIMINAL DAMAGE     0.254717  0.012864  0.332762            0.209262   \n",
       "\n",
       "                    CRIMINAL DAMAGE  \n",
       "BATTERY                    0.050740  \n",
       "ASSAULT                    0.101622  \n",
       "THEFT                      0.093861  \n",
       "DECEPTIVE PRACTICE         0.032680  \n",
       "CRIMINAL DAMAGE            0.190395  "
      ]
     },
     "execution_count": 45,
     "metadata": {},
     "output_type": "execute_result"
    }
   ],
   "source": [
    "conf_mat_df = pd.DataFrame(summ_arr, index=labels, columns=labels)\n",
    "conf_mat_df"
   ]
  },
  {
   "cell_type": "code",
   "execution_count": 46,
   "id": "2cd93971",
   "metadata": {},
   "outputs": [],
   "source": [
    "import seaborn as sn"
   ]
  },
  {
   "cell_type": "code",
   "execution_count": 52,
   "id": "ed12aeaf",
   "metadata": {},
   "outputs": [
    {
     "data": {
      "text/plain": [
       "Text(114.0, 0.5, 'Ground Truth')"
      ]
     },
     "execution_count": 52,
     "metadata": {},
     "output_type": "execute_result"
    },
    {
     "data": {
      "image/png": "[encoded data removed]",
      "text/plain": [
       "<Figure size 1080x504 with 2 Axes>"
      ]
     },
     "metadata": {
      "needs_background": "light"
     },
     "output_type": "display_data"
    }
   ],
   "source": [
    "plt.figure(figsize = (15,7))\n",
    "sn.heatmap(conf_mat_df, annot=True, fmt='.3g')\n",
    "plt.xlabel(\"Prediction\")\n",
    "plt.ylabel(\"Ground Truth\")"
   ]
  },
  {
   "cell_type": "code",
   "execution_count": null,
   "id": "eff88bf1",
   "metadata": {},
   "outputs": [],
   "source": []
  }
 ],
 "metadata": {
  "kernelspec": {
   "display_name": "Python 3",
   "language": "python",
   "name": "python3"
  },
  "language_info": {
   "codemirror_mode": {
    "name": "ipython",
    "version": 3
   },
   "file_extension": ".py",
   "mimetype": "text/x-python",
   "name": "python",
   "nbconvert_exporter": "python",
   "pygments_lexer": "ipython3",
   "version": "3.7.10"
  }
 },
 "nbformat": 4,
 "nbformat_minor": 5
}
